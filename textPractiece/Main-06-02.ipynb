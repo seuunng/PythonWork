{
 "cells": [
  {
   "cell_type": "code",
   "execution_count": 2,
   "metadata": {},
   "outputs": [
    {
     "name": "stdout",
     "output_type": "stream",
     "text": [
      "[['\\ufeff구 ', ' 계   ', ' 한국인  ', ' 등록외국인  ', ' 고령자  '], ['종로구', 152212.0, 141060.0, 11152.0, 28265.0], ['중구', 131390.0, 120963.0, 10427.0, 25353.0], ['용산구', 232482.0, 217756.0, 14726.0, 39478.0]]\n"
     ]
    }
   ],
   "source": [
    "import os, re, usecsv\n",
    "os.chdir(r'/Users/seunghee/PythonWork.py')\n",
    "total=usecsv.opencsv('popSeoul2023.csv')\n",
    "newPop=usecsv.switch(total)\n",
    "print(newPop[:4])"
   ]
  },
  {
   "cell_type": "code",
   "execution_count": 3,
   "metadata": {},
   "outputs": [
    {
     "data": {
      "text/plain": [
       "['종로구', 152212.0, 141060.0, 11152.0, 28265.0]"
      ]
     },
     "execution_count": 3,
     "metadata": {},
     "output_type": "execute_result"
    }
   ],
   "source": [
    "i=newPop[1]\n",
    "i"
   ]
  },
  {
   "cell_type": "code",
   "execution_count": 4,
   "metadata": {},
   "outputs": [
    {
     "data": {
      "text/plain": [
       "7.3"
      ]
     },
     "execution_count": 4,
     "metadata": {},
     "output_type": "execute_result"
    }
   ],
   "source": [
    "i[3]/(i[2]+i[3])*100\n",
    "foreign=round(i[3]/(i[2]+i[3])*100,1)\n",
    "foreign"
   ]
  },
  {
   "cell_type": "code",
   "execution_count": 5,
   "metadata": {},
   "outputs": [
    {
     "name": "stdout",
     "output_type": "stream",
     "text": [
      "종로구 7.3\n",
      "중구 7.9\n",
      "용산구 6.3\n",
      "성동구 2.4\n",
      "광진구 4.0\n",
      "동대문구 4.9\n",
      "중랑구 1.3\n",
      "성북구 2.7\n",
      "강북구 1.4\n",
      "도봉구 0.8\n",
      "노원구 0.9\n",
      "은평구 0.8\n",
      "서대문구 4.2\n",
      "마포구 2.9\n",
      "양천구 0.7\n",
      "강서구 0.9\n",
      "구로구 5.5\n",
      "금천구 5.4\n",
      "영등포구 5.6\n",
      "동작구 2.6\n",
      "관악구 2.9\n",
      "서초구 1.0\n",
      "강남구 0.9\n",
      "송파구 0.9\n",
      "강동구 0.9\n"
     ]
    }
   ],
   "source": [
    "for i in newPop:\n",
    "    try: \n",
    "        foreigner_rate=round(i[3]/(i[2]+i[3])*100,1)\n",
    "        print(i[0],foreigner_rate)\n",
    "    except:\n",
    "        pass"
   ]
  },
  {
   "cell_type": "code",
   "execution_count": 6,
   "metadata": {},
   "outputs": [
    {
     "data": {
      "text/plain": [
       "[['구', '한국인', '외국인', '외국인 비율(%)'], ['종로구', 141060.0, 11152.0, 7.3]]"
      ]
     },
     "execution_count": 6,
     "metadata": {},
     "output_type": "execute_result"
    }
   ],
   "source": [
    "new=[['구', '한국인', '외국인', '외국인 비율(%)']]\n",
    "i=newPop[1]\n",
    "new.append([i[0], i[2], i[3],foreign])\n",
    "new"
   ]
  },
  {
   "cell_type": "code",
   "execution_count": 7,
   "metadata": {},
   "outputs": [
    {
     "name": "stdout",
     "output_type": "stream",
     "text": [
      "['종로구', 141060.0, 11152.0, 7.3]\n",
      "['중구', 120963.0, 10427.0, 7.9]\n",
      "['용산구', 217756.0, 14726.0, 6.3]\n",
      "['광진구', 336801.0, 14124.0, 4.0]\n",
      "['동대문구', 337574.0, 17310.0, 4.9]\n",
      "['서대문구', 308437.0, 13529.0, 4.2]\n",
      "['구로구', 395183.0, 22800.0, 5.5]\n",
      "['금천구', 229307.0, 13160.0, 5.4]\n",
      "['영등포구', 376614.0, 22385.0, 5.6]\n"
     ]
    }
   ],
   "source": [
    "for i in newPop:\n",
    "    try:\n",
    "        foreign=round(i[3]/(i[2]+i[3])*100,1)\n",
    "        if foreign >3:\n",
    "            print([i[0], i[2], i[3], foreign])\n",
    "    except:\n",
    "        pass"
   ]
  },
  {
   "cell_type": "code",
   "execution_count": 11,
   "metadata": {},
   "outputs": [],
   "source": [
    "new=[['구', '한국인', '외국인', '외국인 비율(%)']]\n",
    "for i in newPop:\n",
    "    try:\n",
    "        foreign = round(i[3]/(i[2]+i[3])*100,1)\n",
    "        if foreign > 3:\n",
    "            new.append([i[0], i[2], i[3], foreign])\n",
    "    except:\n",
    "        pass\n",
    "usecsv.writecsv('newPop2023.csv', new)"
   ]
  }
 ],
 "metadata": {
  "kernelspec": {
   "display_name": "Python 3",
   "language": "python",
   "name": "python3"
  },
  "language_info": {
   "codemirror_mode": {
    "name": "ipython",
    "version": 3
   },
   "file_extension": ".py",
   "mimetype": "text/x-python",
   "name": "python",
   "nbconvert_exporter": "python",
   "pygments_lexer": "ipython3",
   "version": "3.9.6"
  }
 },
 "nbformat": 4,
 "nbformat_minor": 2
}

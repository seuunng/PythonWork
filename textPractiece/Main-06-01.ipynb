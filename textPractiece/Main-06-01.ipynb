{
 "cells": [
  {
   "cell_type": "code",
   "execution_count": 7,
   "metadata": {},
   "outputs": [
    {
     "name": "stdout",
     "output_type": "stream",
     "text": [
      "apple\n",
      "arise\n",
      "above\n"
     ]
    }
   ],
   "source": [
    "import re\n",
    "word=['apple', 'cat', 'brave', 'drama', 'arise', 'blow', 'coat', 'above']\n",
    "for i in word:\n",
    "    m = re.match(r'^a\\w*',i)\n",
    "    if m:\n",
    "        print(m.group())"
   ]
  },
  {
   "cell_type": "code",
   "execution_count": 13,
   "metadata": {},
   "outputs": [
    {
     "data": {
      "text/plain": [
       "<_csv.reader at 0x10e1d6f20>"
      ]
     },
     "execution_count": 13,
     "metadata": {},
     "output_type": "execute_result"
    }
   ],
   "source": [
    "import csv, os\n",
    "os.chdir(r'/Users/seunghee/PythonWork.py/CSVfile다루기')\n",
    "f=open('a.csv','r',encoding='utf8')\n",
    "\n",
    "new=csv.reader(f)\n",
    "new"
   ]
  },
  {
   "cell_type": "code",
   "execution_count": 14,
   "metadata": {},
   "outputs": [
    {
     "name": "stdout",
     "output_type": "stream",
     "text": [
      "[\"'국어'\", \" '영어'\", \" '수학'\"]\n",
      "['90', '80', '100']\n"
     ]
    }
   ],
   "source": [
    "for i in new: print(i)"
   ]
  },
  {
   "cell_type": "code",
   "execution_count": 20,
   "metadata": {},
   "outputs": [
    {
     "name": "stdout",
     "output_type": "stream",
     "text": [
      "[\"'국어'\", \" '영어'\", \" '수학'\"]\n",
      "['90', '80', '100']\n"
     ]
    }
   ],
   "source": [
    "f.seek(0)\n",
    "a_list=[]\n",
    "for i in new:\n",
    "    print(i)\n",
    "    a_list.append(i)\n"
   ]
  },
  {
   "cell_type": "code",
   "execution_count": 21,
   "metadata": {},
   "outputs": [
    {
     "data": {
      "text/plain": [
       "[[\"'국어'\", \" '영어'\", \" '수학'\"], ['90', '80', '100']]"
      ]
     },
     "execution_count": 21,
     "metadata": {},
     "output_type": "execute_result"
    }
   ],
   "source": [
    "a_list"
   ]
  },
  {
   "cell_type": "code",
   "execution_count": 22,
   "metadata": {},
   "outputs": [],
   "source": [
    "def opencsv(filename):\n",
    "    f=open(filename, 'r')\n",
    "    reader=csv.reader(f)\n",
    "    output=[]\n",
    "    for i in reader:\n",
    "        output.append(i)\n",
    "    return output"
   ]
  },
  {
   "cell_type": "code",
   "execution_count": 23,
   "metadata": {},
   "outputs": [
    {
     "data": {
      "text/plain": [
       "[[\"'국어'\", \" '영어'\", \" '수학'\"], ['90', '80', '100']]"
      ]
     },
     "execution_count": 23,
     "metadata": {},
     "output_type": "execute_result"
    }
   ],
   "source": [
    "opencsv('a.csv')"
   ]
  },
  {
   "cell_type": "code",
   "execution_count": 27,
   "metadata": {},
   "outputs": [],
   "source": [
    "a=[['구', '전체', '내국인', '외국인'],\n",
    "['관악구', '519864', '502089', '17755'],\n",
    "['강남구', '547602', '542498', '5104'],\n",
    "['송파구', '686181', '679247', '6934'],\n",
    "['강동구', '428547', '424235', '4312']]\n",
    "f=open('edit.cvs', 'w', newline='', encoding='utf-8-sig')\n",
    "csvobject = csv.writer(f, delimiter=',')\n",
    "csvobject.writerows(a)\n"
   ]
  },
  {
   "cell_type": "code",
   "execution_count": 28,
   "metadata": {},
   "outputs": [],
   "source": [
    "f.close()"
   ]
  },
  {
   "cell_type": "code",
   "execution_count": null,
   "metadata": {},
   "outputs": [],
   "source": [
    "def writecsv(filename, the_list):\n",
    "    with open(filename, 'w' newline='', encoding='utf-8-sig') as f:\n",
    "        a = csv.writer(f, delimiter=', ')\n",
    "        a.writerows(the_list)"
   ]
  },
  {
   "cell_type": "code",
   "execution_count": 1,
   "metadata": {},
   "outputs": [
    {
     "name": "stdout",
     "output_type": "stream",
     "text": [
      "['\\ufeff구 ', ' 계   ', ' 한국인  ', ' 등록외국인  ', ' 고령자  ']\n",
      "['종로구', ' 152,212 ', ' 141,060 ', ' 11,152 ', ' 28,265 ']\n",
      "['중구', ' 131,390 ', ' 120,963 ', ' 10,427 ', ' 25,353 ']\n",
      "['용산구', ' 232,482 ', ' 217,756 ', ' 14,726 ', ' 39,478 ']\n",
      "['성동구', ' 287,240 ', ' 280,240 ', ' 7,000 ', ' 48,238 ']\n"
     ]
    }
   ],
   "source": [
    "import os, usecsv\n",
    "\n",
    "total = usecsv.opencsv(r'/Users/seunghee/PythonWork.py/popSeoul2023.csv')\n",
    "for i in total [:5]:\n",
    "    print(i)\n"
   ]
  },
  {
   "cell_type": "code",
   "execution_count": 5,
   "metadata": {},
   "outputs": [
    {
     "data": {
      "text/plain": [
       "152212.0"
      ]
     },
     "execution_count": 5,
     "metadata": {},
     "output_type": "execute_result"
    }
   ],
   "source": [
    "i='123'\n",
    "float(i)\n",
    "int(i)\n",
    "float('152,212'.replace(',',''))"
   ]
  },
  {
   "cell_type": "code",
   "execution_count": 6,
   "metadata": {},
   "outputs": [
    {
     "data": {
      "text/plain": [
       "['종로구', ' 152,212 ', ' 141,060 ', ' 11,152 ', ' 28,265 ']"
      ]
     },
     "execution_count": 6,
     "metadata": {},
     "output_type": "execute_result"
    }
   ],
   "source": [
    "import re\n",
    "i=total[1]\n",
    "i"
   ]
  },
  {
   "cell_type": "code",
   "execution_count": 7,
   "metadata": {},
   "outputs": [
    {
     "data": {
      "text/plain": [
       "['종로구', 152212.0, 141060.0, 11152.0, 28265.0]"
      ]
     },
     "execution_count": 7,
     "metadata": {},
     "output_type": "execute_result"
    }
   ],
   "source": [
    "k=[]\n",
    "for j in i:\n",
    "    if re.search(r'\\d',j):\n",
    "        k.append(float(re.sub(',','',j)))\n",
    "    else:\n",
    "        k.append(j)\n",
    "k"
   ]
  },
  {
   "cell_type": "code",
   "execution_count": 8,
   "metadata": {},
   "outputs": [
    {
     "data": {
      "text/plain": [
       "['123강남', 151767.0, 11093.0, 27394.0]"
      ]
     },
     "execution_count": 8,
     "metadata": {},
     "output_type": "execute_result"
    }
   ],
   "source": [
    "p=['123강남', '151,767','11,093','27,394']\n",
    "k=[]\n",
    "for j in p:\n",
    "    if re.search(r'[a-z가-힣]',j):\n",
    "        k.append(j)\n",
    "    else: k.append(float(j.replace(',','')))\n",
    "k"
   ]
  },
  {
   "cell_type": "code",
   "execution_count": 11,
   "metadata": {},
   "outputs": [
    {
     "data": {
      "text/plain": [
       "['123!!', 124231.0, 22341.0, 242123.0, '', '!!!$^']"
      ]
     },
     "execution_count": 11,
     "metadata": {},
     "output_type": "execute_result"
    }
   ],
   "source": [
    "i=['123!!','124,231','22,341','242123','','!!!$^']\n",
    "for j in i: \n",
    "    try:\n",
    "        i[i.index(j)]=float(j.replace(',',''))\n",
    "    except:\n",
    "        pass       \n",
    "i"
   ]
  },
  {
   "cell_type": "code",
   "execution_count": 13,
   "metadata": {},
   "outputs": [
    {
     "data": {
      "text/plain": [
       "['종로구', 152212.0, 141060.0, 11152.0, 28265.0]"
      ]
     },
     "execution_count": 13,
     "metadata": {},
     "output_type": "execute_result"
    }
   ],
   "source": [
    "i=total[1]\n",
    "k=[]\n",
    "for j in i:\n",
    "    if re.search(r'\\d',j):\n",
    "        k.append(float(j.replace(',','')))\n",
    "    else:\n",
    "        k.append(j)\n",
    "k"
   ]
  },
  {
   "cell_type": "code",
   "execution_count": null,
   "metadata": {},
   "outputs": [],
   "source": []
  }
 ],
 "metadata": {
  "kernelspec": {
   "display_name": "Python 3",
   "language": "python",
   "name": "python3"
  },
  "language_info": {
   "codemirror_mode": {
    "name": "ipython",
    "version": 3
   },
   "file_extension": ".py",
   "mimetype": "text/x-python",
   "name": "python",
   "nbconvert_exporter": "python",
   "pygments_lexer": "ipython3",
   "version": "3.9.6"
  }
 },
 "nbformat": 4,
 "nbformat_minor": 2
}

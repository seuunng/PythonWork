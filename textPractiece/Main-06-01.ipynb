{
 "cells": [
  {
   "cell_type": "code",
   "execution_count": 7,
   "metadata": {},
   "outputs": [
    {
     "name": "stdout",
     "output_type": "stream",
     "text": [
      "apple\n",
      "arise\n",
      "above\n"
     ]
    }
   ],
   "source": [
    "import re\n",
    "word=['apple', 'cat', 'brave', 'drama', 'arise', 'blow', 'coat', 'above']\n",
    "for i in word:\n",
    "    m = re.match(r'^a\\w*',i)\n",
    "    if m:\n",
    "        print(m.group())"
   ]
  },
  {
   "cell_type": "code",
   "execution_count": 13,
   "metadata": {},
   "outputs": [
    {
     "data": {
      "text/plain": [
       "<_csv.reader at 0x10e1d6f20>"
      ]
     },
     "execution_count": 13,
     "metadata": {},
     "output_type": "execute_result"
    }
   ],
   "source": [
    "import csv, os\n",
    "os.chdir(r'/Users/seunghee/PythonWork.py/CSVfile다루기')\n",
    "f=open('a.csv','r',encoding='utf8')\n",
    "\n",
    "new=csv.reader(f)\n",
    "new"
   ]
  },
  {
   "cell_type": "code",
   "execution_count": 14,
   "metadata": {},
   "outputs": [
    {
     "name": "stdout",
     "output_type": "stream",
     "text": [
      "[\"'국어'\", \" '영어'\", \" '수학'\"]\n",
      "['90', '80', '100']\n"
     ]
    }
   ],
   "source": [
    "for i in new: print(i)"
   ]
  },
  {
   "cell_type": "code",
   "execution_count": 20,
   "metadata": {},
   "outputs": [
    {
     "name": "stdout",
     "output_type": "stream",
     "text": [
      "[\"'국어'\", \" '영어'\", \" '수학'\"]\n",
      "['90', '80', '100']\n"
     ]
    }
   ],
   "source": [
    "f.seek(0)\n",
    "a_list=[]\n",
    "for i in new:\n",
    "    print(i)\n",
    "    a_list.append(i)\n"
   ]
  },
  {
   "cell_type": "code",
   "execution_count": 21,
   "metadata": {},
   "outputs": [
    {
     "data": {
      "text/plain": [
       "[[\"'국어'\", \" '영어'\", \" '수학'\"], ['90', '80', '100']]"
      ]
     },
     "execution_count": 21,
     "metadata": {},
     "output_type": "execute_result"
    }
   ],
   "source": [
    "a_list"
   ]
  },
  {
   "cell_type": "code",
   "execution_count": 22,
   "metadata": {},
   "outputs": [],
   "source": [
    "def opencsv(filename):\n",
    "    f=open(filename, 'r')\n",
    "    reader=csv.reader(f)\n",
    "    output=[]\n",
    "    for i in reader:\n",
    "        output.append(i)\n",
    "    return output"
   ]
  },
  {
   "cell_type": "code",
   "execution_count": 23,
   "metadata": {},
   "outputs": [
    {
     "data": {
      "text/plain": [
       "[[\"'국어'\", \" '영어'\", \" '수학'\"], ['90', '80', '100']]"
      ]
     },
     "execution_count": 23,
     "metadata": {},
     "output_type": "execute_result"
    }
   ],
   "source": [
    "opencsv('a.csv')"
   ]
  },
  {
   "cell_type": "code",
   "execution_count": 27,
   "metadata": {},
   "outputs": [],
   "source": [
    "a=[['구', '전체', '내국인', '외국인'],\n",
    "['관악구', '519864', '502089', '17755'],\n",
    "['강남구', '547602', '542498', '5104'],\n",
    "['송파구', '686181', '679247', '6934'],\n",
    "['강동구', '428547', '424235', '4312']]\n",
    "f=open('edit.cvs', 'w', newline='', encoding='utf-8-sig')\n",
    "csvobject = csv.writer(f, delimiter=',')\n",
    "csvobject.writerows(a)\n"
   ]
  },
  {
   "cell_type": "code",
   "execution_count": 28,
   "metadata": {},
   "outputs": [],
   "source": [
    "f.close()"
   ]
  },
  {
   "cell_type": "code",
   "execution_count": null,
   "metadata": {},
   "outputs": [],
   "source": [
    "def writecsv(filename, the_list):\n",
    "    with open(filename, 'w' newline='', encoding='utf-8-sig') as f:\n",
    "        a = csv.writer(f, delimiter=', ')\n",
    "        a.writerows(the_list)"
   ]
  }
 ],
 "metadata": {
  "kernelspec": {
   "display_name": "Python 3",
   "language": "python",
   "name": "python3"
  },
  "language_info": {
   "codemirror_mode": {
    "name": "ipython",
    "version": 3
   },
   "file_extension": ".py",
   "mimetype": "text/x-python",
   "name": "python",
   "nbconvert_exporter": "python",
   "pygments_lexer": "ipython3",
   "version": "3.9.6"
  }
 },
 "nbformat": 4,
 "nbformat_minor": 2
}

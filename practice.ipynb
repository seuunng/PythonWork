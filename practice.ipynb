{
 "cells": [
  {
   "cell_type": "code",
   "execution_count": 24,
   "metadata": {},
   "outputs": [
    {
     "data": {
      "text/plain": [
       "7"
      ]
     },
     "execution_count": 24,
     "metadata": {},
     "output_type": "execute_result"
    }
   ],
   "source": [
    "2+5"
   ]
  },
  {
   "cell_type": "code",
   "execution_count": 25,
   "metadata": {},
   "outputs": [
    {
     "data": {
      "text/plain": [
       "35.666666666666664"
      ]
     },
     "execution_count": 25,
     "metadata": {},
     "output_type": "execute_result"
    }
   ],
   "source": [
    "(50+45+30+29+60)/6"
   ]
  },
  {
   "cell_type": "code",
   "execution_count": 26,
   "metadata": {},
   "outputs": [
    {
     "data": {
      "text/plain": [
       "35"
      ]
     },
     "execution_count": 26,
     "metadata": {},
     "output_type": "execute_result"
    }
   ],
   "source": [
    "(50+45+30+29+60)//6"
   ]
  },
  {
   "cell_type": "code",
   "execution_count": 27,
   "metadata": {},
   "outputs": [
    {
     "data": {
      "text/plain": [
       "35.7"
      ]
     },
     "execution_count": 27,
     "metadata": {},
     "output_type": "execute_result"
    }
   ],
   "source": [
    "round((50+45+30+29+60)/6, 1)"
   ]
  },
  {
   "cell_type": "code",
   "execution_count": 28,
   "metadata": {},
   "outputs": [
    {
     "name": "stdout",
     "output_type": "stream",
     "text": [
      "2 * 1 = 2\n",
      "2 * 2 = 4\n",
      "2 * 3 = 6\n",
      "2 * 4 = 8\n",
      "2 * 5 = 10\n",
      "2 * 6 = 12\n",
      "2 * 7 = 14\n",
      "2 * 8 = 16\n",
      "2 * 9 = 18\n"
     ]
    }
   ],
   "source": [
    "number=[1,2,3,4,5,6,7,8,9]\n",
    "for item in number:\n",
    "    print('2','*',item,'=',2*item)"
   ]
  },
  {
   "cell_type": "code",
   "execution_count": 29,
   "metadata": {},
   "outputs": [
    {
     "name": "stdout",
     "output_type": "stream",
     "text": [
      "2 * 1 = 2\n",
      "2 * 2 = 4\n",
      "2 * 3 = 6\n",
      "2 * 4 = 8\n",
      "2 * 5 = 10\n",
      "2 * 6 = 12\n",
      "2 * 7 = 14\n",
      "2 * 8 = 16\n",
      "2 * 9 = 18\n",
      "3 * 1 = 3\n",
      "3 * 2 = 6\n",
      "3 * 3 = 9\n",
      "3 * 4 = 12\n",
      "3 * 5 = 15\n",
      "3 * 6 = 18\n",
      "3 * 7 = 21\n",
      "3 * 8 = 24\n",
      "3 * 9 = 27\n",
      "4 * 1 = 4\n",
      "4 * 2 = 8\n",
      "4 * 3 = 12\n",
      "4 * 4 = 16\n",
      "4 * 5 = 20\n",
      "4 * 6 = 24\n",
      "4 * 7 = 28\n",
      "4 * 8 = 32\n",
      "4 * 9 = 36\n"
     ]
    }
   ],
   "source": [
    "for i in range(2,5):\n",
    "    for each in range (1,10):\n",
    "        print(i,'*',each,'=',i*each)\n"
   ]
  },
  {
   "cell_type": "code",
   "execution_count": 30,
   "metadata": {},
   "outputs": [
    {
     "name": "stdout",
     "output_type": "stream",
     "text": [
      "2 * 1 = 2\n",
      "2 * 2 = 4\n",
      "2 * 3 = 6\n",
      "2 * 4 = 8\n",
      "2 * 5 = 10\n",
      "2 * 6 = 12\n",
      "2 * 7 = 14\n",
      "2 * 8 = 16\n",
      "2 * 9 = 18\n",
      "3 * 1 = 3\n",
      "3 * 2 = 6\n",
      "3 * 3 = 9\n",
      "3 * 4 = 12\n",
      "3 * 5 = 15\n",
      "3 * 6 = 18\n",
      "3 * 7 = 21\n",
      "3 * 8 = 24\n",
      "3 * 9 = 27\n",
      "4 * 1 = 4\n",
      "4 * 2 = 8\n",
      "4 * 3 = 12\n",
      "4 * 4 = 16\n",
      "4 * 5 = 20\n",
      "4 * 6 = 24\n",
      "4 * 7 = 28\n",
      "4 * 8 = 32\n",
      "4 * 9 = 36\n"
     ]
    }
   ],
   "source": [
    "for i in range(2,5):\n",
    "    for each in range (1,10):\n",
    "        print(f'{i} * {each} = {i*each}')"
   ]
  },
  {
   "cell_type": "code",
   "execution_count": 35,
   "metadata": {},
   "outputs": [
    {
     "name": "stdout",
     "output_type": "stream",
     "text": [
      " 2 *  1 =   2\t 2 *  2 =   4\t 2 *  3 =   6\t 2 *  4 =   8\t 2 *  5 =  10\t 2 *  6 =  12\t 2 *  7 =  14\t 2 *  8 =  16\t 2 *  9 =  18\t\n",
      " 3 *  1 =   3\t 3 *  2 =   6\t 3 *  3 =   9\t 3 *  4 =  12\t 3 *  5 =  15\t 3 *  6 =  18\t 3 *  7 =  21\t 3 *  8 =  24\t 3 *  9 =  27\t\n",
      " 4 *  1 =   4\t 4 *  2 =   8\t 4 *  3 =  12\t 4 *  4 =  16\t 4 *  5 =  20\t 4 *  6 =  24\t 4 *  7 =  28\t 4 *  8 =  32\t 4 *  9 =  36\t\n",
      " 5 *  1 =   5\t 5 *  2 =  10\t 5 *  3 =  15\t 5 *  4 =  20\t 5 *  5 =  25\t 5 *  6 =  30\t 5 *  7 =  35\t 5 *  8 =  40\t 5 *  9 =  45\t\n",
      " 6 *  1 =   6\t 6 *  2 =  12\t 6 *  3 =  18\t 6 *  4 =  24\t 6 *  5 =  30\t 6 *  6 =  36\t 6 *  7 =  42\t 6 *  8 =  48\t 6 *  9 =  54\t\n",
      " 7 *  1 =   7\t 7 *  2 =  14\t 7 *  3 =  21\t 7 *  4 =  28\t 7 *  5 =  35\t 7 *  6 =  42\t 7 *  7 =  49\t 7 *  8 =  56\t 7 *  9 =  63\t\n",
      " 8 *  1 =   8\t 8 *  2 =  16\t 8 *  3 =  24\t 8 *  4 =  32\t 8 *  5 =  40\t 8 *  6 =  48\t 8 *  7 =  56\t 8 *  8 =  64\t 8 *  9 =  72\t\n",
      " 9 *  1 =   9\t 9 *  2 =  18\t 9 *  3 =  27\t 9 *  4 =  36\t 9 *  5 =  45\t 9 *  6 =  54\t 9 *  7 =  63\t 9 *  8 =  72\t 9 *  9 =  81\t\n",
      "10 *  1 =  10\t10 *  2 =  20\t10 *  3 =  30\t10 *  4 =  40\t10 *  5 =  50\t10 *  6 =  60\t10 *  7 =  70\t10 *  8 =  80\t10 *  9 =  90\t\n",
      "11 *  1 =  11\t11 *  2 =  22\t11 *  3 =  33\t11 *  4 =  44\t11 *  5 =  55\t11 *  6 =  66\t11 *  7 =  77\t11 *  8 =  88\t11 *  9 =  99\t\n",
      "12 *  1 =  12\t12 *  2 =  24\t12 *  3 =  36\t12 *  4 =  48\t12 *  5 =  60\t12 *  6 =  72\t12 *  7 =  84\t12 *  8 =  96\t12 *  9 = 108\t\n",
      "13 *  1 =  13\t13 *  2 =  26\t13 *  3 =  39\t13 *  4 =  52\t13 *  5 =  65\t13 *  6 =  78\t13 *  7 =  91\t13 *  8 = 104\t13 *  9 = 117\t\n",
      "14 *  1 =  14\t14 *  2 =  28\t14 *  3 =  42\t14 *  4 =  56\t14 *  5 =  70\t14 *  6 =  84\t14 *  7 =  98\t14 *  8 = 112\t14 *  9 = 126\t\n",
      "15 *  1 =  15\t15 *  2 =  30\t15 *  3 =  45\t15 *  4 =  60\t15 *  5 =  75\t15 *  6 =  90\t15 *  7 = 105\t15 *  8 = 120\t15 *  9 = 135\t\n",
      "16 *  1 =  16\t16 *  2 =  32\t16 *  3 =  48\t16 *  4 =  64\t16 *  5 =  80\t16 *  6 =  96\t16 *  7 = 112\t16 *  8 = 128\t16 *  9 = 144\t\n",
      "17 *  1 =  17\t17 *  2 =  34\t17 *  3 =  51\t17 *  4 =  68\t17 *  5 =  85\t17 *  6 = 102\t17 *  7 = 119\t17 *  8 = 136\t17 *  9 = 153\t\n",
      "18 *  1 =  18\t18 *  2 =  36\t18 *  3 =  54\t18 *  4 =  72\t18 *  5 =  90\t18 *  6 = 108\t18 *  7 = 126\t18 *  8 = 144\t18 *  9 = 162\t\n",
      "19 *  1 =  19\t19 *  2 =  38\t19 *  3 =  57\t19 *  4 =  76\t19 *  5 =  95\t19 *  6 = 114\t19 *  7 = 133\t19 *  8 = 152\t19 *  9 = 171\t\n"
     ]
    }
   ],
   "source": [
    "for i in range(2,20):\n",
    "    for each in range (1,10):\n",
    "        print(f'{i:2d} * {each:2d} = {i*each:3d}', end=\"\\t\")\n",
    "    print()"
   ]
  },
  {
   "cell_type": "code",
   "execution_count": 42,
   "metadata": {},
   "outputs": [
    {
     "name": "stdout",
     "output_type": "stream",
     "text": [
      "Division by zero error\n",
      "This will always be printed\n"
     ]
    }
   ],
   "source": [
    "try:\n",
    "    print(1/0)\n",
    "except ZeroDivisionError:\n",
    "    print(\"Division by zero error\")\n",
    "finally:\n",
    "    print(\"This will always be printed\")"
   ]
  },
  {
   "cell_type": "code",
   "execution_count": 47,
   "metadata": {},
   "outputs": [
    {
     "data": {
      "text/plain": [
       "727"
      ]
     },
     "execution_count": 47,
     "metadata": {},
     "output_type": "execute_result"
    }
   ],
   "source": [
    "round(8000*(1/11))"
   ]
  },
  {
   "cell_type": "code",
   "execution_count": 49,
   "metadata": {},
   "outputs": [
    {
     "data": {
      "text/plain": [
       "9"
      ]
     },
     "execution_count": 49,
     "metadata": {},
     "output_type": "execute_result"
    }
   ],
   "source": [
    "y = lambda x : 3*x\n",
    "y(3)"
   ]
  },
  {
   "cell_type": "code",
   "execution_count": 50,
   "metadata": {},
   "outputs": [
    {
     "data": {
      "text/plain": [
       "6"
      ]
     },
     "execution_count": 50,
     "metadata": {},
     "output_type": "execute_result"
    }
   ],
   "source": [
    "add = lambda a, b : a+b\n",
    "add(1,5)"
   ]
  },
  {
   "cell_type": "code",
   "execution_count": 51,
   "metadata": {},
   "outputs": [
    {
     "data": {
      "text/plain": [
       "'여섯 살 적에 나는'"
      ]
     },
     "execution_count": 51,
     "metadata": {},
     "output_type": "execute_result"
    }
   ],
   "source": [
    "littlePrince = '''여섯 살 적에 나는 '체험한 이야기'라는 제목의 원시림에 과한 채게서 기막힌 그림 하나를 본 적이 있다. 맹수를 집어삼키고 있는 보아뱀 그림이었다.'''\n",
    "littlePrince[:10]"
   ]
  },
  {
   "cell_type": "code",
   "execution_count": 52,
   "metadata": {},
   "outputs": [
    {
     "data": {
      "text/plain": [
       "'여섯 살 적에 나는'"
      ]
     },
     "execution_count": 52,
     "metadata": {},
     "output_type": "execute_result"
    }
   ],
   "source": [
    "short = lambda x : x[:10]\n",
    "short(littlePrince)"
   ]
  },
  {
   "cell_type": "code",
   "execution_count": 53,
   "metadata": {},
   "outputs": [
    {
     "data": {
      "text/plain": [
       "860.0"
      ]
     },
     "execution_count": 53,
     "metadata": {},
     "output_type": "execute_result"
    }
   ],
   "source": [
    "exchange = lambda won : won* 0.00086\n",
    "exchange(1000000)"
   ]
  },
  {
   "cell_type": "code",
   "execution_count": 1,
   "metadata": {},
   "outputs": [],
   "source": [
    "a=input(\"숫자를 입력하세요\")"
   ]
  },
  {
   "cell_type": "code",
   "execution_count": 2,
   "metadata": {},
   "outputs": [
    {
     "name": "stdout",
     "output_type": "stream",
     "text": [
      "22\n"
     ]
    }
   ],
   "source": [
    "print(a)"
   ]
  },
  {
   "cell_type": "code",
   "execution_count": 3,
   "metadata": {},
   "outputs": [
    {
     "data": {
      "text/plain": [
       "str"
      ]
     },
     "execution_count": 3,
     "metadata": {},
     "output_type": "execute_result"
    }
   ],
   "source": [
    "type(a)"
   ]
  },
  {
   "cell_type": "code",
   "execution_count": 4,
   "metadata": {},
   "outputs": [
    {
     "data": {
      "text/plain": [
       "2.4285714285714284"
      ]
     },
     "execution_count": 4,
     "metadata": {},
     "output_type": "execute_result"
    }
   ],
   "source": [
    "c=17/7\n",
    "c"
   ]
  },
  {
   "cell_type": "code",
   "execution_count": 5,
   "metadata": {},
   "outputs": [
    {
     "data": {
      "text/plain": [
       "float"
      ]
     },
     "execution_count": 5,
     "metadata": {},
     "output_type": "execute_result"
    }
   ],
   "source": [
    "type(c)"
   ]
  },
  {
   "cell_type": "code",
   "execution_count": 6,
   "metadata": {},
   "outputs": [
    {
     "data": {
      "text/plain": [
       "float"
      ]
     },
     "execution_count": 6,
     "metadata": {},
     "output_type": "execute_result"
    }
   ],
   "source": [
    "a=float(a)\n",
    "type(a)"
   ]
  },
  {
   "cell_type": "code",
   "execution_count": 10,
   "metadata": {},
   "outputs": [
    {
     "data": {
      "text/plain": [
       "2.4"
      ]
     },
     "execution_count": 10,
     "metadata": {},
     "output_type": "execute_result"
    }
   ],
   "source": [
    "c=round(c,1)\n",
    "c"
   ]
  },
  {
   "cell_type": "code",
   "execution_count": 12,
   "metadata": {},
   "outputs": [
    {
     "name": "stdout",
     "output_type": "stream",
     "text": [
      "홀수\n"
     ]
    }
   ],
   "source": [
    "def seterate():\n",
    "    a=int(input('자연수중하나를 입력하게숑'))\n",
    "    if a%2==0:\n",
    "        print('짝수')\n",
    "    else:\n",
    "        print('홀수')\n",
    "seterate()\n"
   ]
  },
  {
   "cell_type": "code",
   "execution_count": 14,
   "metadata": {},
   "outputs": [
    {
     "name": "stdout",
     "output_type": "stream",
     "text": [
      "25.3\n",
      "44.0\n",
      "73.7\n"
     ]
    }
   ],
   "source": [
    "price = [23, 40, 67]\n",
    "for i in price:\n",
    "    print(i*1.1)\n"
   ]
  },
  {
   "cell_type": "code",
   "execution_count": null,
   "metadata": {},
   "outputs": [],
   "source": [
    "def service_price():\n",
    "    service=input('서비스를 선택하세요.(a/b/c)')\n",
    "    valueAdded=input('부가세를 포함함니까? y/n')\n",
    "    if valueAdded == 'y':\n",
    "        if service == 'a':\n",
    "            result == price[0]*1.1\n",
    "        if service == 'b':\n",
    "            result == price[1]*1.1\n",
    "        if service == 'c':\n",
    "            result == price[2]*1.1\n",
    "        \n",
    "        \n",
    "        "
   ]
  }
 ],
 "metadata": {
  "kernelspec": {
   "display_name": "Python 3",
   "language": "python",
   "name": "python3"
  },
  "language_info": {
   "codemirror_mode": {
    "name": "ipython",
    "version": 3
   },
   "file_extension": ".py",
   "mimetype": "text/x-python",
   "name": "python",
   "nbconvert_exporter": "python",
   "pygments_lexer": "ipython3",
   "version": "3.9.6"
  }
 },
 "nbformat": 4,
 "nbformat_minor": 2
}
